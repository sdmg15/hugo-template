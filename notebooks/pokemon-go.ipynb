{
 "cells": [
  {
   "cell_type": "markdown",
   "metadata": {},
   "source": [
    "# Pokémon GO attack party optimization\n",
    "\n",
    "<div class=\"separator\" style=\"clear:right; float:right; margin-left:1em; margin-bottom:1em\">\n",
    "  <img border=\"0\" src=\"pokemon-go-dog.jpg\" width=\"320\"\n",
    "       title=\"First victims of Pokémon GO\">\n",
    "</div>\n",
    "\n",
    "<blockquote class=\"twitter-tweet\" data-lang=\"en\"><p lang=\"en\" dir=\"ltr\">We designed distributed architectures, highly available and resilient systems, reactive interfaces &amp; what are they for?<br>Catching Pokemons ;(</p>&mdash; Mario Fusco (@mariofusco) <a href=\"https://twitter.com/mariofusco/status/754361558147469312\">July 16, 2016</a></blockquote>\n",
    "<script async src=\"//platform.twitter.com/widgets.js\" charset=\"utf-8\"></script>\n",
    "\n",
    "Pokémon GO, an augmented-reality mobile game recently released by Niantic, has been generating a lot of hype since it went public in the beginning of July. I was caught in it myself a few days ago and, already bored with choosing a good gym attack party by hand, I decided to apply optimization methods to this important task.\n",
    "\n",
    "In case you haven't noticed already, this is a [Jupyter](http://jupyter.org/) notebook and you can download and run it on your own machine and with your own data provided that you have all necessary dependencies such as [numpy](http://www.numpy.org/), [pandas](http://pandas.pydata.org/), [matplotlib](http://matplotlib.org/), [pyomo](http://www.pyomo.org/) and [cbc](https://projects.coin-or.org/Cbc) (you can use any other [AMPL](http://ampl.com/) MIP solver instead).\n",
    "\n",
    "This First let's import a few packages and define helper methods to be used later:"
   ]
  },
  {
   "cell_type": "code",
   "execution_count": 110,
   "metadata": {
    "collapsed": false
   },
   "outputs": [],
   "source": [
    "from __future__ import print_function\n",
    "import numpy as np\n",
    "import pandas as pd\n",
    "import matplotlib.pyplot as plt\n",
    "\n",
    "%matplotlib inline\n",
    "\n",
    "import sys\n",
    "if sys.version_info[0] < 3: \n",
    "    from StringIO import StringIO\n",
    "else:\n",
    "    from io import StringIO\n",
    "\n",
    "def read_csv(data, **kwargs):\n",
    "    \"\"\"Read CSV from a string.\"\"\"\n",
    "    return pd.read_csv(StringIO(data), delim_whitespace=True, **kwargs)\n",
    "\n",
    "def show_heatmap(df):\n",
    "    \"\"\"Display data in dataframe df as a heatmap.\"\"\"\n",
    "    plt.pcolor(df)\n",
    "    plt.yticks(np.arange(0.5, len(df.index), 1), df.index)\n",
    "    plt.xticks(np.arange(0.5, len(df.columns), 1), df.columns, rotation=90)\n",
    "    plt.gca().invert_yaxis()\n",
    "    plt.show()"
   ]
  },
  {
   "cell_type": "markdown",
   "metadata": {},
   "source": [
    "<div class=\"separator\" style=\"clear:right; float:right; margin-left:1em; margin-bottom:1em\">\n",
    "  <img border=\"0\" src=\"parasect.png\" width=\"200\">\n",
    "</div>\n",
    "\n",
    "Now to the interesting stuff. The `types` data frame defined below contains a mapping from Pokémon to their types. Types are very important because they determine resistance to different kinds of attacks. Each Pokémon has one or two types, for example Flareon has type Fire and Parasect has type Bug/Grass. The `Type2` column contains '`-`' if the corresponding Pokémon has only one type. Note that the table only contains a small subset of Pokémon, but it's easy to add more."
   ]
  },
  {
   "cell_type": "code",
   "execution_count": 111,
   "metadata": {
    "collapsed": false
   },
   "outputs": [],
   "source": [
    "# Pokémon types\n",
    "types = read_csv(\"\"\"\n",
    "           Type1    Type2\n",
    "Aerodactyl Rock     Flying\n",
    "Arbok      Poison   -\n",
    "Arcanine   Fire     -\n",
    "Flareon    Fire     -\n",
    "Golduck    Water    -\n",
    "Golem      Rock     Ground\n",
    "Jynx       Psychic  Ice\n",
    "Machoke    Fighting -\n",
    "Magmar     Fire     -\n",
    "Parasect   Bug      Grass\n",
    "Pidgeot    Flying   Normal\n",
    "Ponyta     Fire     -\n",
    "Primeape   Fighting -\n",
    "Rhydon     Ground   Rock\n",
    "Sandslash  Ground   -\n",
    "Snorlax    Normal   -\n",
    "Vaporeon   Water    -\n",
    "\"\"\", index_col=0)"
   ]
  },
  {
   "cell_type": "markdown",
   "metadata": {},
   "source": [
    "If you Google a Pokémon, you'll find a lot of useful information about it. For example, an entry on Arcanine mentions that it has the following weaknesses: Ground, Rock, Water. It would be nice to understand exactly what this means and have the weakness/type data available somewhere. Fortunately, the folks from [Pokémon Database](http://pokemondb.net/type) did a great job explaining how [Pokémon types work](http://pokemondb.net/type) and provided a table of attack power multipliers which I translated into the data frame form below:"
   ]
  },
  {
   "cell_type": "code",
   "execution_count": 112,
   "metadata": {
    "collapsed": false
   },
   "outputs": [],
   "source": [
    "# Data from http://pokemondb.net/type split into two tables for readability\n",
    "data1 = read_csv(\"\"\"\n",
    "         Normal Fire Water Electric Grass Ice Fighting Poison Ground\n",
    "Normal     -     -     -      -       -    -     -       -      -   \n",
    "Fire       -    0.5   0.5     -       2    2     -       -      -   \n",
    "Water      -     2    0.5     -      0.5   -     -       -      2   \n",
    "Electric   -     -     2     0.5     0.5   -     -       -      0   \n",
    "Grass      -    0.5    2      -      0.5   -     -      0.5     2   \n",
    "Ice        -    0.5   0.5     -       2   0.5    -       -      2   \n",
    "Fighting   2     -     -      -       -    2     -      0.5     -   \n",
    "Poison     -     -     -      -       2    -     -      0.5    0.5  \n",
    "Ground     -     2     -      2      0.5   -     -       2      -   \n",
    "Flying     -     -     -     0.5      2    -     2       -      -   \n",
    "Psychic    -     -     -      -       -    -     2       2      -   \n",
    "Bug        -    0.5    -      -       2    -    0.5     0.5     -   \n",
    "Rock       -     2     -      -       -    2    0.5      -     0.5  \n",
    "Ghost      0     -     -      -       -    -     -       -      -   \n",
    "Dragon     -     -     -      -       -    -     -       -      -   \n",
    "Dark       -     -     -      -       -    -    0.5      -      -   \n",
    "Steel      -    0.5   0.5    0.5      -    2     -       -      -   \n",
    "Fairy      -    0.5    -      -       -    -     2      0.5     -   \n",
    "\"\"\")\n",
    "\n",
    "data2 = read_csv(\"\"\"\n",
    "         Flying Psychic Bug Rock Ghost Dragon Dark Steel Fairy\n",
    "Normal     -       -     -   0.5   0     -     -    0.5    -  \n",
    "Fire       -       -     2   0.5   -    0.5    -     2     -  \n",
    "Water      -       -     -    2    -    0.5    -     -     -  \n",
    "Electric   2       -     -    -    -    0.5    -     -     -  \n",
    "Grass     0.5      -    0.5   2    -    0.5    -    0.5    -  \n",
    "Ice        2       -     -    -    -     2     -    0.5    -  \n",
    "Fighting  0.5     0.5   0.5   2    0     -     2     2    0.5 \n",
    "Poison     -       -     -   0.5  0.5    -     -     0     2  \n",
    "Ground     0       -    0.5   2    -     -     -     2     -  \n",
    "Flying     -       -     2   0.5   -     -     -    0.5    -  \n",
    "Psychic    -      0.5    -    -    -     -     0    0.5    -  \n",
    "Bug       0.5      2     -    -   0.5    -     2    0.5   0.5 \n",
    "Rock       2       -     2    -    -     -     -    0.5    -  \n",
    "Ghost      -       2     -    -    2     -    0.5    -     -  \n",
    "Dragon     -       -     -    -    -     2     -    0.5    0  \n",
    "Dark       -       2     -    -    2     -    0.5    -    0.5 \n",
    "Steel      -       -     -    2    -     -     -    0.5    2  \n",
    "Fairy      -       -     -    -    -     2     2    0.5    -\n",
    "\"\"\")\n",
    "\n",
    "# damage_factor[i, j] is the damage multiplier for attack of type i on Pokémon of type j\n",
    "damage_factor = pd.concat([data1, data2], axis=1).replace('-', 1.0)\n",
    "damage_factor = damage_factor.apply(pd.to_numeric, errors='coerce')"
   ]
  },
  {
   "cell_type": "markdown",
   "metadata": {},
   "source": [
    "The row labels represent attack types and column labels are defending Pokémon types. Element `(i, j)` of the table gives the coefficient multiplying the power of attack of type `i` on a Pokémon of type `j`. For example, the power of Rock -> Fire attack is multiplied by 2 because the entry in row Rock and column Fire is 2. For readability 1 is denoted by '`-`' in the input (since one is the most common entry) and the table is split in two and then concatenated into the `damage_factor` data frame.\n",
    "\n",
    "Having the type data in such form makes it easy to work with it programmatically. For example, we can visualize it with a heat map:"
   ]
  },
  {
   "cell_type": "code",
   "execution_count": 113,
   "metadata": {
    "collapsed": false
   },
   "outputs": [
    {
     "data": {
      "image/png": "[encoded data removed]",
      "text/plain": [
       "<matplotlib.figure.Figure at 0x7f7f26743650>"
      ]
     },
     "metadata": {},
     "output_type": "display_data"
    }
   ],
   "source": [
    "show_heatmap(damage_factor)"
   ]
  },
  {
   "cell_type": "markdown",
   "metadata": {},
   "source": [
    "Here dark blue represents 0, light blue represents 0.5, light green is 1, and dark red(ish) is 2.\n",
    "\n",
    "In order to choose an attack party we need information about available Pokémon. Here I entered my top 15 (by CP) Pokémon:"
   ]
  },
  {
   "cell_type": "code",
   "execution_count": 114,
   "metadata": {
    "collapsed": false
   },
   "outputs": [],
   "source": [
    "# My Pokémon\n",
    "my_pokemon = read_csv(\"\"\"\n",
    "Pokemon      CP  Attack1 Power1  Attack2 Power2\n",
    "Arcanine   1535  Dark         6  Ground      30\n",
    "Arcanine   1356  Fire         7  Fire        50\n",
    "Rhydon     1057  Ground       6  Bug         55\n",
    "Arcanine    968  Dark         6  Fire        50\n",
    "Flareon     927  Fire        10  Fire        60\n",
    "Sandslash   767  Ground      12  Ground      60\n",
    "Primeape    751  Fighting     6  Fighting    25\n",
    "Aerodactyl  677  Dark         6  Steel       40\n",
    "Sandslash   669  Steel       12  Ground      30\n",
    "Golem       668  Ground      12  Rock        30\n",
    "Parasect    627  Bug          6  Poison      20\n",
    "Arbok       596  Poison      10  Poison      60\n",
    "Machoke     584  Fighting     5  Fighting    30\n",
    "Primeape    576  Fighting     5  Fighting    55\n",
    "Dodrio      562  Dark        12  Flying      25\n",
    "\"\"\")"
   ]
  },
  {
   "cell_type": "markdown",
   "metadata": {},
   "source": [
    "You can enter your own Pokémon data instead.\n",
    "\n",
    "And now the enemy Pokémon defending the gym I want to conquer:"
   ]
  },
  {
   "cell_type": "code",
   "execution_count": 115,
   "metadata": {
    "collapsed": true
   },
   "outputs": [],
   "source": [
    "# Enemy Pokémon defending the gym I want to attack\n",
    "enemies = read_csv(\"\"\"\n",
    "Pokemon      CP\n",
    "Magmar      402\n",
    "Pidgeot     483\n",
    "Snorlax     979\n",
    "\"\"\")"
   ]
  },
  {
   "cell_type": "markdown",
   "metadata": {},
   "source": [
    "Unfortunately the game doesn't provide information about the types of attack that the enemy Pokémon have, so I'll focus on optimizing the attack power of my own party and hope for the best defense-wise.\n",
    "\n",
    "If you, like me, are new to the game, then chances are that you don't remember exactly the types of Pokémon. One could make an educated guess that the type of Pidgeot is Flying (which is not entirely true). Otherwise, I had to look up the types in the Internet. But having all (or rather, some of) the data in the data frames, I can now query types of enemy Pokémon with a one liner:"
   ]
  },
  {
   "cell_type": "code",
   "execution_count": 116,
   "metadata": {
    "collapsed": false
   },
   "outputs": [
    {
     "data": {
      "text/html": [
       "<div>\n",
       "<table border=\"1\" class=\"dataframe\">\n",
       "  <thead>\n",
       "    <tr style=\"text-align: right;\">\n",
       "      <th></th>\n",
       "      <th>Pokemon</th>\n",
       "      <th>CP</th>\n",
       "      <th>Type1</th>\n",
       "      <th>Type2</th>\n",
       "    </tr>\n",
       "  </thead>\n",
       "  <tbody>\n",
       "    <tr>\n",
       "      <th>0</th>\n",
       "      <td>Magmar</td>\n",
       "      <td>402</td>\n",
       "      <td>Fire</td>\n",
       "      <td>-</td>\n",
       "    </tr>\n",
       "    <tr>\n",
       "      <th>1</th>\n",
       "      <td>Pidgeot</td>\n",
       "      <td>483</td>\n",
       "      <td>Flying</td>\n",
       "      <td>Normal</td>\n",
       "    </tr>\n",
       "    <tr>\n",
       "      <th>2</th>\n",
       "      <td>Snorlax</td>\n",
       "      <td>979</td>\n",
       "      <td>Normal</td>\n",
       "      <td>-</td>\n",
       "    </tr>\n",
       "  </tbody>\n",
       "</table>\n",
       "</div>"
      ],
      "text/plain": [
       "   Pokemon   CP   Type1   Type2\n",
       "0   Magmar  402    Fire       -\n",
       "1  Pidgeot  483  Flying  Normal\n",
       "2  Snorlax  979  Normal       -"
      ]
     },
     "execution_count": 116,
     "metadata": {},
     "output_type": "execute_result"
    }
   ],
   "source": [
    "pd.concat([enemies, enemies.apply(lambda e: types.loc[e.Pokemon], axis=1)], axis=1)"
   ]
  },
  {
   "cell_type": "markdown",
   "metadata": {},
   "source": [
    "Now let's build and visualize the attack advantage table against these three Pokémon types including one compound type:"
   ]
  },
  {
   "cell_type": "code",
   "execution_count": 117,
   "metadata": {
    "collapsed": false
   },
   "outputs": [
    {
     "data": {
      "image/png": "[encoded data removed]",
      "text/plain": [
       "<matplotlib.figure.Figure at 0x7f7f2c188050>"
      ]
     },
     "metadata": {},
     "output_type": "display_data"
    }
   ],
   "source": [
    "dfs = []\n",
    "for e in enemies.itertuples():\n",
    "    t = types.loc[e.Pokemon]\n",
    "    factor = advantage[t.Type1]\n",
    "    if t.Type2 != '-':\n",
    "        factor = factor * damage_factor[t.Type2]\n",
    "        factor.rename('{}/{}'.format(t.Type1, t.Type2), inplace=True)\n",
    "    dfs.append(factor)\n",
    "\n",
    "data = pd.concat(dfs, axis=1)\n",
    "show_heatmap(data)"
   ]
  },
  {
   "cell_type": "markdown",
   "metadata": {},
   "source": [
    "You can immediately see that attacks of types Grass and Ghost are not the best choice in this case. Using the Grass attack on the first two Pokémon, Magmar and Pidgeot, will half the damage. The Ghost attack is even worse with 0 damage when used on the last two Pokémon.\n",
    "\n",
    "Previously I'd go over a few of my Pokémon and choose the ones with a suitable attack type. But now it can be automated! To this end I introduce function `estimate_damage` that returns an average damage that my given Pokémon is expected to inflict on the given enemy Pokémon. The tricky part here is that there are two types of attacks, normal and special. They are combined via the parameter `attack2_fraction` which gives the fraction of attacks that are special. Currently `attack2_fraction` is set to 0.1 but this can be adjusted."
   ]
  },
  {
   "cell_type": "code",
   "execution_count": 118,
   "metadata": {
    "collapsed": false
   },
   "outputs": [],
   "source": [
    "# Fraction of special attacks (Attack2), e.g. 0.1 means that 10% of attacks\n",
    "# are special.\n",
    "attack2_fraction = 0.1\n",
    "\n",
    "def estimate_damage(my, enemy):\n",
    "    \"\"\"Estimate average damage that my Pokémon inflicts on the enemy Pokémon.\"\"\"\n",
    "    type1, type2 = types.loc[enemy.Pokemon]\n",
    "    adv1 = damage_factor.loc[my.Attack1][type1]\n",
    "    adv2 = damage_factor.loc[my.Attack2][type1]\n",
    "    if type2 != '-':\n",
    "        adv1 *= damage_factor.loc[my.Attack1][type2]\n",
    "        adv2 *= damage_factor.loc[my.Attack2][type2]\n",
    "    return adv1 * my.Power1 * (1 - attack2_fraction) + \\\n",
    "           adv2 * my.Power2 * attack2_fraction"
   ]
  },
  {
   "cell_type": "markdown",
   "metadata": {},
   "source": [
    "Now let's compute the estimated damage for all my and enemy Pokémon given earlier. Note that my Sandslash with ID 5, makes 0 estimated damage against Enemy2 which is Pidgeot. The reason is simple: both attacks of my Sandslash have type Ground which is inefficient against Flying Pokémon. This is a bit disappointing considering that the Ground attack is extremely efficient against the first enemy."
   ]
  },
  {
   "cell_type": "code",
   "execution_count": 119,
   "metadata": {
    "collapsed": false
   },
   "outputs": [
    {
     "data": {
      "text/html": [
       "<div>\n",
       "<table border=\"1\" class=\"dataframe\">\n",
       "  <thead>\n",
       "    <tr style=\"text-align: right;\">\n",
       "      <th></th>\n",
       "      <th>Pokemon</th>\n",
       "      <th>CP</th>\n",
       "      <th>Enemy1</th>\n",
       "      <th>Enemy2</th>\n",
       "      <th>Enemy3</th>\n",
       "    </tr>\n",
       "  </thead>\n",
       "  <tbody>\n",
       "    <tr>\n",
       "      <th>0</th>\n",
       "      <td>Arcanine</td>\n",
       "      <td>1535</td>\n",
       "      <td>11.40</td>\n",
       "      <td>5.40</td>\n",
       "      <td>8.4</td>\n",
       "    </tr>\n",
       "    <tr>\n",
       "      <th>1</th>\n",
       "      <td>Arcanine</td>\n",
       "      <td>1356</td>\n",
       "      <td>5.65</td>\n",
       "      <td>11.30</td>\n",
       "      <td>11.3</td>\n",
       "    </tr>\n",
       "    <tr>\n",
       "      <th>2</th>\n",
       "      <td>Rhydon</td>\n",
       "      <td>1057</td>\n",
       "      <td>13.55</td>\n",
       "      <td>2.75</td>\n",
       "      <td>10.9</td>\n",
       "    </tr>\n",
       "    <tr>\n",
       "      <th>3</th>\n",
       "      <td>Arcanine</td>\n",
       "      <td>968</td>\n",
       "      <td>7.90</td>\n",
       "      <td>10.40</td>\n",
       "      <td>10.4</td>\n",
       "    </tr>\n",
       "    <tr>\n",
       "      <th>4</th>\n",
       "      <td>Flareon</td>\n",
       "      <td>927</td>\n",
       "      <td>7.50</td>\n",
       "      <td>15.00</td>\n",
       "      <td>15.0</td>\n",
       "    </tr>\n",
       "    <tr>\n",
       "      <th>5</th>\n",
       "      <td>Sandslash</td>\n",
       "      <td>767</td>\n",
       "      <td>33.60</td>\n",
       "      <td>0.00</td>\n",
       "      <td>16.8</td>\n",
       "    </tr>\n",
       "    <tr>\n",
       "      <th>6</th>\n",
       "      <td>Primeape</td>\n",
       "      <td>751</td>\n",
       "      <td>7.90</td>\n",
       "      <td>7.90</td>\n",
       "      <td>15.8</td>\n",
       "    </tr>\n",
       "    <tr>\n",
       "      <th>7</th>\n",
       "      <td>Aerodactyl</td>\n",
       "      <td>677</td>\n",
       "      <td>7.40</td>\n",
       "      <td>9.40</td>\n",
       "      <td>9.4</td>\n",
       "    </tr>\n",
       "    <tr>\n",
       "      <th>8</th>\n",
       "      <td>Sandslash</td>\n",
       "      <td>669</td>\n",
       "      <td>11.40</td>\n",
       "      <td>10.80</td>\n",
       "      <td>13.8</td>\n",
       "    </tr>\n",
       "    <tr>\n",
       "      <th>9</th>\n",
       "      <td>Golem</td>\n",
       "      <td>668</td>\n",
       "      <td>27.60</td>\n",
       "      <td>6.00</td>\n",
       "      <td>13.8</td>\n",
       "    </tr>\n",
       "    <tr>\n",
       "      <th>10</th>\n",
       "      <td>Parasect</td>\n",
       "      <td>627</td>\n",
       "      <td>4.70</td>\n",
       "      <td>4.70</td>\n",
       "      <td>7.4</td>\n",
       "    </tr>\n",
       "    <tr>\n",
       "      <th>11</th>\n",
       "      <td>Arbok</td>\n",
       "      <td>596</td>\n",
       "      <td>15.00</td>\n",
       "      <td>15.00</td>\n",
       "      <td>15.0</td>\n",
       "    </tr>\n",
       "    <tr>\n",
       "      <th>12</th>\n",
       "      <td>Machoke</td>\n",
       "      <td>584</td>\n",
       "      <td>7.50</td>\n",
       "      <td>7.50</td>\n",
       "      <td>15.0</td>\n",
       "    </tr>\n",
       "    <tr>\n",
       "      <th>13</th>\n",
       "      <td>Primeape</td>\n",
       "      <td>576</td>\n",
       "      <td>10.00</td>\n",
       "      <td>10.00</td>\n",
       "      <td>20.0</td>\n",
       "    </tr>\n",
       "    <tr>\n",
       "      <th>14</th>\n",
       "      <td>Dodrio</td>\n",
       "      <td>562</td>\n",
       "      <td>13.30</td>\n",
       "      <td>13.30</td>\n",
       "      <td>13.3</td>\n",
       "    </tr>\n",
       "  </tbody>\n",
       "</table>\n",
       "</div>"
      ],
      "text/plain": [
       "       Pokemon    CP  Enemy1  Enemy2  Enemy3\n",
       "0     Arcanine  1535   11.40    5.40     8.4\n",
       "1     Arcanine  1356    5.65   11.30    11.3\n",
       "2       Rhydon  1057   13.55    2.75    10.9\n",
       "3     Arcanine   968    7.90   10.40    10.4\n",
       "4      Flareon   927    7.50   15.00    15.0\n",
       "5    Sandslash   767   33.60    0.00    16.8\n",
       "6     Primeape   751    7.90    7.90    15.8\n",
       "7   Aerodactyl   677    7.40    9.40     9.4\n",
       "8    Sandslash   669   11.40   10.80    13.8\n",
       "9        Golem   668   27.60    6.00    13.8\n",
       "10    Parasect   627    4.70    4.70     7.4\n",
       "11       Arbok   596   15.00   15.00    15.0\n",
       "12     Machoke   584    7.50    7.50    15.0\n",
       "13    Primeape   576   10.00   10.00    20.0\n",
       "14      Dodrio   562   13.30   13.30    13.3"
      ]
     },
     "execution_count": 119,
     "metadata": {},
     "output_type": "execute_result"
    }
   ],
   "source": [
    "df = pd.concat(\n",
    "    [my_pokemon.apply(lambda p: estimate_damage(p, enemies.loc[i]), axis=1)\n",
    "     for i in enemies.index], axis=1)\n",
    "df.rename(columns=dict((i, 'Enemy{}'.format(i + 1)) for i in enemies.index), inplace=True)\n",
    "estimated_damage = pd.concat([my_pokemon[['Pokemon', 'CP']], df], axis=1)\n",
    "estimated_damage"
   ]
  },
  {
   "cell_type": "markdown",
   "metadata": {},
   "source": [
    "Using the table above it's already possible to come up a good attack party, but let's go a step further and write a [mathematical optimization](https://en.wikipedia.org/wiki/Mathematical_optimization) problem that maximizes the total estimated damage. Technically it's not necessary to use optimization software in this example, because it's relatively easy to enumerate all solutions and find the best one. However, as we consider gyms of higher levels and add more Pokémon the number of combination will increase exponentially. Also it's nice to have a high-level declarative optimization model which can be easily improved and leave the heavy lifting to solvers.\n",
    "\n",
    "For this example, I'll use the Pyomo optimization package and an open-source MIP solver called CBC connected via the AMPL solver interface.\n",
    "\n",
    "The first version of the optimization model is very simple. First, there are two sets: `MyPokemon` containing IDs of my Pokémon and `Pos` with positions in the attack party. For simplicity, the number of positions is limited to the number of enemies right now. The remaining positions can be filled automatically and don't really matter because in my experience it rarely takes more than one Pokémon to eliminate one opponent. Then there is a binary variable `use` indexed over the two sets. `use[p, i]` is 1 iff Pokémon `p` is in position `i` in the attack party. The objective is to maximize the total estimated damage which is a sum of estimated damages computed for all Pokémon in the party. And finally two constraints ensure that the assignment of Pokémon to positions is valid."
   ]
  },
  {
   "cell_type": "code",
   "execution_count": 124,
   "metadata": {
    "collapsed": false
   },
   "outputs": [],
   "source": [
    "from pyomo.environ import *\n",
    "from pyomo.opt import SolverFactory\n",
    "\n",
    "model = ConcreteModel()\n",
    "\n",
    "# IDs of my Pokémon\n",
    "model.MyPokemon = RangeSet(0, len(my_pokemon.index) - 1)\n",
    "\n",
    "# Positions in the attack party\n",
    "model.Pos = RangeSet(0, len(enemies.index) - 1)\n",
    "\n",
    "# use[p, i] is 1 iff Pokémon p is in position i in the attack party\n",
    "model.use = Var(model.MyPokemon, model.Pos, domain=Binary)\n",
    "\n",
    "model.total_damage = Objective(\n",
    "    sense=maximize,\n",
    "    rule=lambda m: sum(estimate_damage(my_pokemon.loc[p], enemies.loc[i]) * m.use[p, i]\n",
    "                       for p in m.MyPokemon for i in m.Pos))\n",
    "\n",
    "# At most one Pokémon can be in position i.\n",
    "model.assign1 = Constraint(\n",
    "    model.Pos, rule=lambda m, i: sum(m.use[p, i] for p in m.MyPokemon) <= 1)\n",
    "\n",
    "# Use Pokémon p in at most one position.\n",
    "model.assign2 = Constraint(\n",
    "    model.Pos, rule=lambda m, p: sum(m.use[p, i] for i in m.Pos) <= 1)\n",
    "\n",
    "def solve():\n",
    "    \"\"\"Solve the problem and return the IDs of the Pokémon in the attack party.\"\"\"\n",
    "    opt = SolverFactory('cbc', solver_io='nl')\n",
    "    results = opt.solve(model, tee=True)\n",
    "    model.solutions.load_from(results)\n",
    "    print('Objective:', model.total_damage())\n",
    "    return [p for i in model.Pos for p in model.MyPokemon if model.use[p, i].value != 0]"
   ]
  },
  {
   "cell_type": "markdown",
   "metadata": {},
   "source": [
    "Now let's solve this problem and display the result:"
   ]
  },
  {
   "cell_type": "code",
   "execution_count": 126,
   "metadata": {
    "collapsed": false
   },
   "outputs": [
    {
     "name": "stdout",
     "output_type": "stream",
     "text": [
      "CBC 2.8.8: printingOptions=all\n",
      "Objective: 68.6\n"
     ]
    },
    {
     "data": {
      "text/html": [
       "<div>\n",
       "<table border=\"1\" class=\"dataframe\">\n",
       "  <thead>\n",
       "    <tr style=\"text-align: right;\">\n",
       "      <th></th>\n",
       "      <th>Pokemon</th>\n",
       "      <th>CP</th>\n",
       "      <th>Enemy1</th>\n",
       "      <th>Enemy2</th>\n",
       "      <th>Enemy3</th>\n",
       "    </tr>\n",
       "  </thead>\n",
       "  <tbody>\n",
       "    <tr>\n",
       "      <th>5</th>\n",
       "      <td>Sandslash</td>\n",
       "      <td>767</td>\n",
       "      <td>33.6</td>\n",
       "      <td>0.0</td>\n",
       "      <td>16.8</td>\n",
       "    </tr>\n",
       "    <tr>\n",
       "      <th>11</th>\n",
       "      <td>Arbok</td>\n",
       "      <td>596</td>\n",
       "      <td>15.0</td>\n",
       "      <td>15.0</td>\n",
       "      <td>15.0</td>\n",
       "    </tr>\n",
       "    <tr>\n",
       "      <th>13</th>\n",
       "      <td>Primeape</td>\n",
       "      <td>576</td>\n",
       "      <td>10.0</td>\n",
       "      <td>10.0</td>\n",
       "      <td>20.0</td>\n",
       "    </tr>\n",
       "  </tbody>\n",
       "</table>\n",
       "</div>"
      ],
      "text/plain": [
       "      Pokemon   CP  Enemy1  Enemy2  Enemy3\n",
       "5   Sandslash  767    33.6     0.0    16.8\n",
       "11      Arbok  596    15.0    15.0    15.0\n",
       "13   Primeape  576    10.0    10.0    20.0"
      ]
     },
     "execution_count": 126,
     "metadata": {},
     "output_type": "execute_result"
    }
   ],
   "source": [
    "estimated_damage.loc[solve()]"
   ]
  },
  {
   "cell_type": "markdown",
   "metadata": {},
   "source": [
    "The problem with this solution is that if Sandslash beats the first enemy which is very likely, it's attacks will have no effect against the second one. So let's disallow such situations by fixing appropriate variables to 0:"
   ]
  },
  {
   "cell_type": "code",
   "execution_count": 127,
   "metadata": {
    "collapsed": false
   },
   "outputs": [
    {
     "name": "stdout",
     "output_type": "stream",
     "text": [
      "CBC 2.8.8: printingOptions=all\n",
      "Objective: 62.6\n"
     ]
    },
    {
     "data": {
      "text/html": [
       "<div>\n",
       "<table border=\"1\" class=\"dataframe\">\n",
       "  <thead>\n",
       "    <tr style=\"text-align: right;\">\n",
       "      <th></th>\n",
       "      <th>Pokemon</th>\n",
       "      <th>CP</th>\n",
       "      <th>Enemy1</th>\n",
       "      <th>Enemy2</th>\n",
       "      <th>Enemy3</th>\n",
       "    </tr>\n",
       "  </thead>\n",
       "  <tbody>\n",
       "    <tr>\n",
       "      <th>9</th>\n",
       "      <td>Golem</td>\n",
       "      <td>668</td>\n",
       "      <td>27.6</td>\n",
       "      <td>6.0</td>\n",
       "      <td>13.8</td>\n",
       "    </tr>\n",
       "    <tr>\n",
       "      <th>11</th>\n",
       "      <td>Arbok</td>\n",
       "      <td>596</td>\n",
       "      <td>15.0</td>\n",
       "      <td>15.0</td>\n",
       "      <td>15.0</td>\n",
       "    </tr>\n",
       "    <tr>\n",
       "      <th>13</th>\n",
       "      <td>Primeape</td>\n",
       "      <td>576</td>\n",
       "      <td>10.0</td>\n",
       "      <td>10.0</td>\n",
       "      <td>20.0</td>\n",
       "    </tr>\n",
       "  </tbody>\n",
       "</table>\n",
       "</div>"
      ],
      "text/plain": [
       "     Pokemon   CP  Enemy1  Enemy2  Enemy3\n",
       "9      Golem  668    27.6     6.0    13.8\n",
       "11     Arbok  596    15.0    15.0    15.0\n",
       "13  Primeape  576    10.0    10.0    20.0"
      ]
     },
     "execution_count": 127,
     "metadata": {},
     "output_type": "execute_result"
    }
   ],
   "source": [
    "# Don't use Pokémon that are ineffective in the next attack.\n",
    "for p in model.MyPokemon:\n",
    "    for i in range(1, len(enemies.index)):\n",
    "        if estimate_damage(my_pokemon.loc[p], enemies.loc[i]) == 0:\n",
    "            model.use[p, i - 1] = 0\n",
    "            model.use[p, i - 1].fixed = True\n",
    "\n",
    "estimated_damage.loc[solve()]"
   ]
  },
  {
   "cell_type": "markdown",
   "metadata": {},
   "source": [
    "The new solution looks better but the attack party consists of Pokémon with relatively low CP. To take it into account, let's normalize the estimated damage and Pokémon CP dividing them by maximum values. Now that they are in the same range [0, 1] we can more sensibly combine the two using the `damage_weight` parameter which gives relative importance of estimated damage vs CP. The current weight of 0.6 is chosen somewhat arbitrarily to give a bit more importance to the estimated damage, but it can be easily changed."
   ]
  },
  {
   "cell_type": "code",
   "execution_count": 132,
   "metadata": {
    "collapsed": false
   },
   "outputs": [
    {
     "name": "stdout",
     "output_type": "stream",
     "text": [
      "CBC 2.8.8: printingOptions=all\n",
      "Objective: 2.25859004188\n"
     ]
    },
    {
     "data": {
      "text/html": [
       "<div>\n",
       "<table border=\"1\" class=\"dataframe\">\n",
       "  <thead>\n",
       "    <tr style=\"text-align: right;\">\n",
       "      <th></th>\n",
       "      <th>Pokemon</th>\n",
       "      <th>CP</th>\n",
       "      <th>Enemy1</th>\n",
       "      <th>Enemy2</th>\n",
       "      <th>Enemy3</th>\n",
       "    </tr>\n",
       "  </thead>\n",
       "  <tbody>\n",
       "    <tr>\n",
       "      <th>9</th>\n",
       "      <td>Golem</td>\n",
       "      <td>668</td>\n",
       "      <td>27.6</td>\n",
       "      <td>6.0</td>\n",
       "      <td>13.8</td>\n",
       "    </tr>\n",
       "    <tr>\n",
       "      <th>4</th>\n",
       "      <td>Flareon</td>\n",
       "      <td>927</td>\n",
       "      <td>7.5</td>\n",
       "      <td>15.0</td>\n",
       "      <td>15.0</td>\n",
       "    </tr>\n",
       "    <tr>\n",
       "      <th>13</th>\n",
       "      <td>Primeape</td>\n",
       "      <td>576</td>\n",
       "      <td>10.0</td>\n",
       "      <td>10.0</td>\n",
       "      <td>20.0</td>\n",
       "    </tr>\n",
       "  </tbody>\n",
       "</table>\n",
       "</div>"
      ],
      "text/plain": [
       "     Pokemon   CP  Enemy1  Enemy2  Enemy3\n",
       "9      Golem  668    27.6     6.0    13.8\n",
       "4    Flareon  927     7.5    15.0    15.0\n",
       "13  Primeape  576    10.0    10.0    20.0"
      ]
     },
     "execution_count": 132,
     "metadata": {},
     "output_type": "execute_result"
    }
   ],
   "source": [
    "max_damage = [max(estimate_damage(my_pokemon.loc[p], enemies.loc[i])\n",
    "                  for p in model.MyPokemon) for i in model.Pos]\n",
    "max_cp = my_pokemon['CP'].max()\n",
    "\n",
    "# Relative weight of estimated damage vs CP\n",
    "damage_weight = 0.6\n",
    "\n",
    "def obj_coef(pokemon, pos):\n",
    "    damage = estimate_damage(my_pokemon.loc[pokemon], enemies.loc[pos])\n",
    "    return damage_weight * damage / max_damage[pos] + \\\n",
    "           (1 - damage_weight) * my_pokemon.CP[pokemon] / max_cp\n",
    "\n",
    "model.del_component('total_damage')\n",
    "model.total_damage = Objective(\n",
    "    sense=maximize,\n",
    "    rule=lambda m: sum(obj_coef(p, i) * m.use[p, i] for p in m.MyPokemon for i in m.Pos))\n",
    "\n",
    "estimated_damage.loc[solve()]"
   ]
  },
  {
   "cell_type": "markdown",
   "metadata": {},
   "source": [
    "Arbok has been replaced with Flareon that has higher CP in the new solution which makes sense. The solution looks completely different from what I would have chosen because I wouldn't have patience to go over all the Pokémon stats. Now it's time to go and check if it works in the field!\n",
    "\n",
    "<blockquote><p>All models are wrong but some are useful</p>&mdash; George Box</blockquote>\n",
    "\n",
    "There are many ways to improve the model. In particular, one can take into account Same Type Attack Bonus (STAB), the estimated damage of attack party members against more than one opponen, make `attack2_fraction` depend on the special attack type because some attacks take longer to build up power, etc."
   ]
  },
  {
   "cell_type": "code",
   "execution_count": null,
   "metadata": {
    "collapsed": true
   },
   "outputs": [],
   "source": []
  }
 ],
 "metadata": {
  "kernelspec": {
   "display_name": "Python 2",
   "language": "python",
   "name": "python2"
  },
  "language_info": {
   "codemirror_mode": {
    "name": "ipython",
    "version": 2
   },
   "file_extension": ".py",
   "mimetype": "text/x-python",
   "name": "python",
   "nbconvert_exporter": "python",
   "pygments_lexer": "ipython2",
   "version": "2.7.11+"
  }
 },
 "nbformat": 4,
 "nbformat_minor": 0
}
