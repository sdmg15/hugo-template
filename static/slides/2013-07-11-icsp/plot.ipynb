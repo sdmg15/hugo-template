{
 "metadata": {
  "name": "plot"
 },
 "nbformat": 3,
 "nbformat_minor": 0,
 "worksheets": [
  {
   "cells": [
    {
     "cell_type": "code",
     "collapsed": false,
     "input": [
      "import os"
     ],
     "language": "python",
     "metadata": {},
     "outputs": [],
     "prompt_number": 2
    },
    {
     "cell_type": "code",
     "collapsed": false,
     "input": [
      "import matplotlib.pyplot as plt\n",
      "\n",
      "old_time = [11.244, 38.347]\n",
      "new_time = [4.721, 5.938]\n",
      "pos = arange(len(old_time))\n",
      "\n",
      "width = 0.3\n",
      "fig = plt.figure()\n",
      "ax = fig.add_subplot(111)\n",
      "ax.set_ylabel('Time, s')\n",
      "old = ax.bar(pos, old_time, width, color='#dc3912', align='center') \n",
      "new = ax.bar(pos + width, new_time, width, color='#3366cc', align='center')\n",
      "ax.legend((old[0], new[0]), ('Old', 'New') )\n",
      "ax.set_xticks(pos + width / 2)\n",
      "ax.set_xticklabels(('Original', 'Scaled') )\n",
      "plt.savefig('test.svg')"
     ],
     "language": "python",
     "metadata": {},
     "outputs": [
      {
       "output_type": "display_data",
       "png": "[encoded data removed]"
      }
     ],
     "prompt_number": 9
    },
    {
     "cell_type": "code",
     "collapsed": false,
     "input": [],
     "language": "python",
     "metadata": {},
     "outputs": []
    }
   ],
   "metadata": {}
  }
 ]
}