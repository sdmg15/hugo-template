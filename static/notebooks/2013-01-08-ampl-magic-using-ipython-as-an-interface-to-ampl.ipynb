{
 "metadata": {
  "name": "AMPL magic - using IPython as an interface to AMPL"
 },
 "nbformat": 3,
 "nbformat_minor": 0,
 "worksheets": [
  {
   "cells": [
    {
     "cell_type": "markdown",
     "metadata": {},
     "source": [
      "AMPL magic: using IPython as an interface to AMPL\n",
      "=================================================\n",
      "\n",
      "In this post I will give an introduction to [iampl](https://github.com/vitaut/iampl),\n",
      "a project which implements [AMPL](http://www.ampl.com/)\n",
      "[magics](http://ipython.org/ipython-doc/dev/interactive/tutorial.html#magic-functions)\n",
      "for IPython.\n",
      "[IPython](http://ipython.org/) is a Python-based interactive\n",
      "environment with additional capabilities for visualization, rendering\n",
      "formulas, scientific computing, data introspection, etc.\n",
      "With iampl it is possible to use IPython as an interface to AMPL and\n",
      "do modeling, data processing and visualization in one rich environment.\n",
      "This post itself is also written using IPython.\n",
      "\n",
      "You can download the latest version of iampl from\n",
      "[here](https://github.com/vitaut/iampl/archive/master.zip).\n",
      "The archive contains a Python module called ``ampl.py`` implementing\n",
      "the magics and a sample IPython notebook called ``example.ipynb``.\n",
      "To install iampl, place ``ampl.py`` in the directory\n",
      "\n",
      "``~/.config/ipython/profile_default/startup``\n",
      "\n",
      "To use iampl you should have ampl and solvers executables available on\n",
      "the search path.\n",
      "\n",
      "Now let's have a look at the functionality of iampl on the provided\n",
      "example. First navigate to the directory containing ``example.ipynb``\n",
      "which you downloaded previously and start the IPython notebook server with\n",
      "the following command:\n",
      "\n",
      "<pre class=\"terminal\"><code>$ ipython notebook --pylab=inline</code></pre>\n",
      "\n",
      "In addition to starting the server this will open an IPython Dashboard in\n",
      "a browser:\n",
      "\n",
      "<a href=\"files/ipython-dashboard.png\">\n",
      "    <img src=\"files/ipython-dashboard.png\"></img></a>\n",
      "\n",
      "Click on ``example`` to open the notebook.\n",
      "\n",
      "The notebook starts with an AMPL code for a simple transportation\n",
      "problem by George Dantzig. The first line of the cell is ``%%ampl``\n",
      "which is a so called \"cell magic\" specifying that the rest of the\n",
      "cell contains AMPL code. You can execute the code by selecting the\n",
      "cell and pressing <kbd>Shift-Enter</kbd>. The AMPL interpreter stays\n",
      "running in the background so you can access the solution, modify\n",
      "the data and do other tasks as in the ampl console. There is a ``reset``\n",
      "command at the beginning of the AMPL code which is not strictly\n",
      "necessary, but it is useful in case you want to re-run the cell for \n",
      "some reason. This avoids redefinition of AMPL objects such as sets and\n",
      "parameters."
     ]
    },
    {
     "cell_type": "code",
     "collapsed": false,
     "input": [
      "%%ampl\n",
      "reset;\n",
      "\n",
      "set Plants;\n",
      "set Markets;\n",
      "\n",
      "# Capacity of plant p in cases\n",
      "param Capacity{p in Plants};\n",
      "\n",
      "# Demand at market m in cases\n",
      "param Demand{m in Markets};\n",
      "\n",
      "# Distance in thousands of miles\n",
      "param Distance{Plants, Markets};\n",
      "\n",
      "# Freight in dollars per case per thousand miles\n",
      "param Freight;\n",
      "\n",
      "# Transport cost in thousands of dollars per case\n",
      "param TransportCost{p in Plants, m in Markets} :=\n",
      "    Freight * Distance[p, m] / 1000; \n",
      "\n",
      "# Shipment quantities in cases\n",
      "var shipment{Plants, Markets} >= 0;\n",
      "\n",
      "# Total transportation costs in thousands of dollars\n",
      "minimize cost:\n",
      "    sum{p in Plants, m in Markets} TransportCost[p, m] * shipment[p, m];\n",
      "\n",
      "# Observe supply limit at plant p\n",
      "s.t. supply{p in Plants}: sum{m in Markets} shipment[p, m] <= Capacity[p];\n",
      "\n",
      "# Satisfy demand at market m\n",
      "s.t. demand{m in Markets}: sum{p in Plants} shipment[p, m] >= Demand[m];\n",
      "\n",
      "data;\n",
      "\n",
      "set Plants := seattle san-diego;\n",
      "set Markets := new-york chicago topeka;\n",
      "\n",
      "param Capacity :=\n",
      "    seattle   350\n",
      "    san-diego 600;\n",
      "\n",
      "param Demand :=\n",
      "    new-york 325\n",
      "    chicago  300\n",
      "    topeka   275;\n",
      "\n",
      "param Distance : new-york chicago topeka :=\n",
      "    seattle        2.5      1.7     1.8\n",
      "    san-diego      2.5      1.8     1.4;\n",
      "\n",
      "param Freight := 90;\n",
      "\n",
      "solve;"
     ],
     "language": "python",
     "metadata": {},
     "outputs": [
      {
       "output_type": "stream",
       "stream": "stdout",
       "text": [
        "MINOS 5.51: optimal solution found.\n",
        "4 iterations, objective 153.675\n"
       ]
      }
     ],
     "prompt_number": 1
    },
    {
     "cell_type": "markdown",
     "metadata": {},
     "source": [
      "You can mix AMPL code, text, [markdown](http://daringfireball.net/projects/markdown/syntax), Python code and even formulas written in LaTeX, for example: $$F(k) = \\int _{-\\infty}^{\\infty} f(x) e^{2\\pi i k} dx$$\n",
      "\n",
      "At the end of the AMPL code there is a ``solve`` command so running the cell will also invoke the solver. You can, of course, split the AMPL code between several cells, for example, separating model and data. After running the AMPL code cell all the sets, parameters, variables, objectives and constraints become available in the IPython notebook and you can use them as normal Python objects.\n",
      "\n",
      "For example, you can print values of objective and variables:"
     ]
    },
    {
     "cell_type": "code",
     "collapsed": false,
     "input": [
      "print 'Cost =', cost\n",
      "\n",
      "# Indexed AMPL parameters, variables, constraints, etc. act as\n",
      "# Python dictionaries.\n",
      "print 'Shipment:'\n",
      "for s in shipment:\n",
      "    print s, shipment[s]"
     ],
     "language": "python",
     "metadata": {},
     "outputs": [
      {
       "output_type": "stream",
       "stream": "stdout",
       "text": [
        "Cost = 153.675\n",
        "Shipment:\n",
        "('san-diego', 'topeka') 275.0\n",
        "('seattle', 'topeka') 0.0\n",
        "('san-diego', 'new-york') 275.0\n",
        "('seattle', 'new-york') 50.0\n",
        "('san-diego', 'chicago') 0.0\n",
        "('seattle', 'chicago') 300.0\n"
       ]
      }
     ],
     "prompt_number": 2
    },
    {
     "cell_type": "markdown",
     "metadata": {},
     "source": [
      "The value of an AMPL object can be accessed using the ``val`` property, for example ``cost.val``. If the object is indexed over one or more sets, the value will be a dictionary.\n",
      "\n",
      "And you can use matplotlib to visualize the data:"
     ]
    },
    {
     "cell_type": "code",
     "collapsed": false,
     "input": [
      "# It is easy to visualize the data using matplotlib.\n",
      "s = shipment.val\n",
      "pos = arange(len(s))\n",
      "barh(pos, s.values(), align='center')\n",
      "yticks(pos, s.keys())\n",
      "show()"
     ],
     "language": "python",
     "metadata": {},
     "outputs": [
      {
       "output_type": "display_data",
       "png": "[encoded data removed]"
      }
     ],
     "prompt_number": 3
    },
    {
     "cell_type": "markdown",
     "metadata": {},
     "source": [
      "Web-based notebook is not the only interface to IPython. There is also a nice QT console and a terminal interface. To learn more about IPython go to its [website](http://ipython.org/documentation.html) where you can find plenty of learning material. I also recommend watching this nice talk by Fernando Perez \"Science And Python: retrospective of a (mostly) successful decade\":\n",
      "\n",
      "<p><div align=\"center\"> <iframe title=\"YouTube video player2\" width=\"550\"\n",
      "   height=\"350\" src=\"http://www.youtube.com/embed/F4rFuIb1Ie4\" frameborder=\"0\"\n",
      "   allowfullscreen></iframe></div><br></p>"
     ]
    },
    {
     "cell_type": "markdown",
     "metadata": {},
     "source": [
      "Both IPython and iampl are open-source projects. IAmpl is still work in progress, so if you'd like to contribute or report a bug go to [this GitHub repository](https://github.com/vitaut/iampl)."
     ]
    }
   ],
   "metadata": {}
  }
 ]
}